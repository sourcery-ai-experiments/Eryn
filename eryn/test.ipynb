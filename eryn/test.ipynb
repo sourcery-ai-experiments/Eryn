{
 "cells": [
  {
   "cell_type": "code",
   "execution_count": 1,
   "metadata": {
    "ExecuteTime": {
     "end_time": "2024-04-23T03:32:02.855071Z",
     "start_time": "2024-04-23T03:32:02.851165Z"
    }
   },
   "outputs": [],
   "source": [
    "import sys\n",
    "sys.path.append('/Eryn')"
   ]
  },
  {
   "cell_type": "code",
   "execution_count": 2,
   "metadata": {
    "ExecuteTime": {
     "end_time": "2024-04-23T03:32:04.667833Z",
     "start_time": "2024-04-23T03:32:02.858086Z"
    }
   },
   "outputs": [],
   "source": [
    "# import torch\n",
    "import multiprocessing\n",
    " \n",
    "from eryn.ensemble import EnsembleSampler\n",
    "from eryn.state import State\n",
    "from eryn.prior import ProbDistContainer, uniform_dist\n",
    "from eryn.utils import TransformContainer\n",
    "from eryn.moves import GaussianMove, StretchMove, CombineMove\n",
    "from eryn.utils.utility import groups_from_inds\n",
    "\n",
    "import matplotlib.pyplot as plt\n",
    "import numpy as np\n",
    "\n",
    "# set random seed\n",
    "np.random.seed(42)\n",
    "\n",
    "# cpu_count = multiprocessing.cpu_count()\n",
    "# print(\"CPU数量:\", cpu_count)\n",
    "# # 查看系统中可用的 GPU 数量\n",
    "# num_gpus = torch.cuda.device_count()\n",
    "# print(\"GPU数量：\", num_gpus)\n",
    "\n",
    "# 该测试仅改动参数维度、nwalker和temper的数量\n",
    "\n",
    "ndim = 40\n",
    "nwalkers = 800\n",
    "ntemps = 40\n",
    "\n",
    "nsteps =5\n",
    "burn = 1\n",
    "\n",
    "thin_by = 1"
   ]
  },
  {
   "cell_type": "code",
   "execution_count": 3,
   "metadata": {
    "ExecuteTime": {
     "end_time": "2024-04-23T03:32:04.675471Z",
     "start_time": "2024-04-23T03:32:04.669843Z"
    },
    "tags": []
   },
   "outputs": [],
   "source": [
    "# Gaussian likelihood\n",
    "def log_like_fn(x, mu, invcov):\n",
    "    diff = x - mu\n",
    "    return -0.5 * (diff * np.dot(invcov, diff.T).T).sum()\n"
   ]
  },
  {
   "cell_type": "code",
   "execution_count": 4,
   "metadata": {
    "ExecuteTime": {
     "end_time": "2024-04-23T03:32:04.918480Z",
     "start_time": "2024-04-23T03:32:04.680485Z"
    },
    "tags": []
   },
   "outputs": [],
   "source": [
    "# mean\n",
    "means = np.zeros(ndim)  # np.random.rand(ndim)\n",
    "\n",
    "# define covariance matrix\n",
    "cov = np.diag(np.ones(ndim))\n",
    "invcov = np.linalg.inv(cov)"
   ]
  },
  {
   "cell_type": "code",
   "execution_count": 5,
   "metadata": {
    "ExecuteTime": {
     "end_time": "2024-04-23T03:32:04.927665Z",
     "start_time": "2024-04-23T03:32:04.920532Z"
    },
    "tags": []
   },
   "outputs": [],
   "source": [
    "# set prior limits\n",
    "lims = 5.0\n",
    "priors_in = {i: uniform_dist(-lims + means[i], lims + means[i]) for i in range(ndim)}\n",
    "priors = ProbDistContainer(priors_in)\n"
   ]
  },
  {
   "cell_type": "code",
   "execution_count": 6,
   "metadata": {
    "ExecuteTime": {
     "end_time": "2024-04-23T03:32:09.047659Z",
     "start_time": "2024-04-23T03:32:04.930716Z"
    }
   },
   "outputs": [
    {
     "name": "stderr",
     "output_type": "stream",
     "text": [
      "100%|████████████████████████████████████████████████████████████████████████████████████| 1/1 [00:00<00:00,  2.03it/s]\n",
      "100%|████████████████████████████████████████████████████████████████████████████████████| 5/5 [00:02<00:00,  1.94it/s]\n"
     ]
    },
    {
     "data": {
      "text/plain": [
       "<eryn.state.State at 0x1f5016df350>"
      ]
     },
     "execution_count": 6,
     "metadata": {},
     "output_type": "execute_result"
    }
   ],
   "source": [
    "# fill kwargs dictionary\n",
    "tempering_kwargs=dict(ntemps=ntemps)\n",
    "\n",
    "# randomize throughout prior\n",
    "coords = priors.rvs(size=(ntemps, nwalkers,))\n",
    "\n",
    "# initialize sampler\n",
    "ensemble_pt = EnsembleSampler(\n",
    "    nwalkers,\n",
    "    ndim,\n",
    "    log_like_fn,\n",
    "    priors,\n",
    "    args=[means, cov],\n",
    "    tempering_kwargs=tempering_kwargs,\n",
    "    # pool=True,\n",
    "    # vectorize=True,\n",
    ")\n",
    "ensemble_pt.run_mcmc(coords, nsteps, burn=burn, progress=True, thin_by=thin_by)"
   ]
  },
  {
   "cell_type": "code",
   "execution_count": 7,
   "metadata": {
    "ExecuteTime": {
     "end_time": "2024-04-23T03:32:09.053995Z",
     "start_time": "2024-04-23T03:32:09.049675Z"
    }
   },
   "outputs": [],
   "source": [
    "initial_state = ensemble_pt._previous_state\n",
    "coords = initial_state.branches_coords\n",
    "inds = initial_state.branches_inds\n",
    "# initial_state.log_like.shape, initial_state.log_prior.shape, coords['model_0'].shape"
   ]
  },
  {
   "cell_type": "code",
   "execution_count": 8,
   "metadata": {
    "ExecuteTime": {
     "end_time": "2024-04-23T03:32:09.979506Z",
     "start_time": "2024-04-23T03:32:09.056005Z"
    }
   },
   "outputs": [
    {
     "name": "stdout",
     "output_type": "stream",
     "text": [
      "Groundtruth code time：0.9164457321166992\n",
      "[[ -35.97364673  -37.76164563  -42.8906489  ...  -36.12542081\n",
      "   -30.83841615  -13.55685512]\n",
      " [ -44.96763615  -49.27304825  -54.64686885 ...  -49.80771132\n",
      "   -53.3003641   -35.49659629]\n",
      " [ -82.41825586  -78.58970686  -54.74686663 ...  -58.31230148\n",
      "   -69.50697803  -50.64450974]\n",
      " ...\n",
      " [-179.71717093 -127.07477839 -150.07498884 ... -191.96325102\n",
      "  -195.52117062 -179.58485631]\n",
      " [-167.5484348  -133.59299462 -138.01766934 ... -141.13926265\n",
      "  -175.16417022 -179.15357214]\n",
      " [-158.99261428 -180.97518019 -188.36775529 ... -201.69256795\n",
      "  -142.3314211  -168.48709665]]\n"
     ]
    }
   ],
   "source": [
    "import time\n",
    "# Groundtruth\n",
    "\n",
    "start_time =time.time()\n",
    "log_like = ensemble_pt.compute_log_like(\n",
    "        coords,\n",
    "        inds=inds,\n",
    "        logp=initial_state.log_prior,\n",
    "        supps=initial_state.supplimental,  # only used if self.provide_supplimental is True\n",
    "        branch_supps=initial_state.branches_supplimental,  # only used if self.provide_supplimental is True\n",
    "    )[0]\n",
    "print(f\"Groundtruth code time：{time.time()-start_time}\")\n",
    "log_like.shape\n",
    "print(log_like)"
   ]
  },
  {
   "cell_type": "code",
   "execution_count": 9,
   "metadata": {
    "ExecuteTime": {
     "end_time": "2024-04-23T03:32:09.990385Z",
     "start_time": "2024-04-23T03:32:09.984558Z"
    }
   },
   "outputs": [],
   "source": [
    "\n",
    "#当ndim = 100 nwalkers = 1000  ntemps = 100 时\n",
    "# 首先报错提醒cpu的数量不能全部占用，减少cpu后报错提示空间溢出来了。\n",
    "# File D:\\Anaconda\\envs\\taiji\\Lib\\site-packages\\ray\\_private\\utils.py:749, in check_oversized_function(pickled, name, obj_type, worker)\n",
    "#     737 else:\n",
    "#     738     error = (\n",
    "#     739         \"The {} {} is too large ({} MiB > FUNCTION_SIZE_ERROR_THRESHOLD={}\"\n",
    "#     740         \" MiB). Check that its definition is not implicitly capturing a \"\n",
    "#    (...)\n",
    "#     747         ray_constants.FUNCTION_SIZE_ERROR_THRESHOLD // (1024 * 1024),\n",
    "#     748     )\n",
    "# --> 749     raise ValueError(error)\n",
    "\n",
    "# ValueError: The remote function eryn.ensemble.parallel_log_like_fn is too large (392 MiB > FUNCTION_SIZE_ERROR_THRESHOLD=95 MiB). Check that its definition is not implicitly capturing a large array or other object in scope. Tip: use ray.put() to put large objects in the Ray object store.\n"
   ]
  }
 ],
 "metadata": {
  "kernelspec": {
   "display_name": "Python 3 (ipykernel)",
   "language": "python",
   "name": "python3"
  },
  "language_info": {
   "codemirror_mode": {
    "name": "ipython",
    "version": 3
   },
   "file_extension": ".py",
   "mimetype": "text/x-python",
   "name": "python",
   "nbconvert_exporter": "python",
   "pygments_lexer": "ipython3",
   "version": "3.11.5"
  },
  "varInspector": {
   "cols": {
    "lenName": 16,
    "lenType": 16,
    "lenVar": 40
   },
   "kernels_config": {
    "python": {
     "delete_cmd_postfix": "",
     "delete_cmd_prefix": "del ",
     "library": "var_list.py",
     "varRefreshCmd": "print(var_dic_list())"
    },
    "r": {
     "delete_cmd_postfix": ") ",
     "delete_cmd_prefix": "rm(",
     "library": "var_list.r",
     "varRefreshCmd": "cat(var_dic_list()) "
    }
   },
   "types_to_exclude": [
    "module",
    "function",
    "builtin_function_or_method",
    "instance",
    "_Feature"
   ],
   "window_display": false
  }
 },
 "nbformat": 4,
 "nbformat_minor": 4
}
